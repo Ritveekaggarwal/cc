{
 "cells": [
  {
   "cell_type": "code",
   "execution_count": 1,
   "metadata": {},
   "outputs": [
    {
     "name": "stdout",
     "output_type": "stream",
     "text": [
      "Question 1\n",
      "The Starting list:- [10, 20, 30, 40, 50, 60, 70, 80]\n",
      "The List after adding 200,300:- [10, 20, 30, 40, 50, 60, 70, 80, 200, 300]\n",
      "The list after removing 10,30:- [20, 40, 50, 60, 70, 80, 200, 300]\n",
      "Sorted list:- [20, 40, 50, 60, 70, 80, 200, 300]\n",
      "Sorted list in reversed order:- [300, 200, 80, 70, 60, 50, 40, 20]\n"
     ]
    }
   ],
   "source": [
    "#Question-1\n",
    "print(\"Question 1\")\n",
    "ls=[10,20,30,40,50,60,70,80]\n",
    "print(\"The Starting list:-\",ls)\n",
    "ls.append(200)\n",
    "ls.append(300)\n",
    "print(\"The List after adding 200,300:-\",ls)\n",
    "ls.remove(10)\n",
    "ls.remove(30)\n",
    "print(\"The list after removing 10,30:-\",ls)\n",
    "ls.sort(reverse=False)\n",
    "print(\"Sorted list:-\",ls)\n",
    "ls.sort(reverse=True)\n",
    "print(\"Sorted list in reversed order:-\",ls)"
   ]
  },
  {
   "cell_type": "code",
   "execution_count": 6,
   "metadata": {},
   "outputs": [
    {
     "name": "stdout",
     "output_type": "stream",
     "text": [
      "Question 2:-\n",
      "Highest marks:- 92 at index 5\n",
      "Lowest marks is:- 45  and it appeared 2\n",
      "Reversed tuple into a list [45, 58, 92, 89, 45.4, 76, 89.5, 45]\n",
      "4\n"
     ]
    }
   ],
   "source": [
    "#Question-2\n",
    "print(\"Question 2:-\")\n",
    "tu=(45,89.5,76,45.4,89,92,58,45)\n",
    "print(\"Highest marks:-\",max(tu),\"at index\",tu.index(max(tu)))\n",
    "print(\"Lowest marks is:-\",min(tu),\" and it appeared\",tu.count(min(tu)))\n",
    "ls_q2=list(tu[::-1])\n",
    "print(\"Reversed tuple into a list\",ls_q2)\n",
    "x=int(input(\"Enter a number=\"))\n",
    "if(tu.count(x)>0):\n",
    "    print(tu.index(x))\n",
    "else:\n",
    "    print(\"Not found\")"
   ]
  },
  {
   "cell_type": "code",
   "execution_count": 7,
   "metadata": {},
   "outputs": [
    {
     "name": "stdout",
     "output_type": "stream",
     "text": [
      "Question 3\n",
      "Even Number=\n",
      "530,748,730,562,276,796,638,302,722,266,688,258,156,778,294,492,706,444,880,586,324,288,140,138,542,612,180,896,624,774,598,304,272,662,218,570,720,246,762,698,674,366,106,724,752,684,652,\n",
      "Odd Number=\n",
      "363,331,877,543,575,627,521,169,821,631,617,537,569,149,885,845,409,125,279,883,769,641,369,521,887,133,637,587,347,785,199,837,295,117,485,461,667,775,495,567,233,547,211,151,157,429,673,217,521,543,881,509,715,\n",
      "Prime Number=\n",
      "331,877,521,821,631,617,569,149,409,883,769,641,521,887,587,347,199,461,233,547,211,151,157,673,521,881,509,\n",
      "\n"
     ]
    }
   ],
   "source": [
    "#Question-3\n",
    "print(\"Question 3\")\n",
    "from random import randint as rd\n",
    "ls_q3=[]\n",
    "for i in range(100):\n",
    "    ls_q3.append(rd(100,900))\n",
    "print(\"Even Number=\")\n",
    "for i in ls_q3:\n",
    "    if(i%2==0):\n",
    "        print(i,end=\",\")\n",
    "print(\"\\nOdd Number=\")\n",
    "for i in ls_q3:\n",
    "    if(i%2!=0):\n",
    "        print(i,end=\",\")\n",
    "print(\"\\nPrime Number=\")\n",
    "isPrime=False\n",
    "for i in ls_q3:\n",
    "    isPrime=True\n",
    "    for j in range(2,i):\n",
    "        if(i%j==0):\n",
    "            isPrime=False\n",
    "    if(isPrime):\n",
    "        print(i,end=\",\")\n",
    "print(\"\\n\")"
   ]
  },
  {
   "cell_type": "code",
   "execution_count": 8,
   "metadata": {},
   "outputs": [
    {
     "name": "stdout",
     "output_type": "stream",
     "text": [
      "Question 4=\n",
      "The union of a and b {34, 45, 78, 23, 56, 90}\n",
      "The intersection of a and b {90, 78}\n",
      "The differance b/w and b {56, 34}\n",
      "if a is subset of b False\n",
      "The list after removing 34 is {56, 90, 78}\n"
     ]
    }
   ],
   "source": [
    "#Question-4\n",
    "print(\"Question 4=\")\n",
    "a={34,56,78,90}\n",
    "b={78,45,90,23}\n",
    "print(\"The union of a and b\",a.union(b))\n",
    "print(\"The intersection of a and b\",a.intersection(b))\n",
    "print(\"The differance b/w and b\",a.difference(b))\n",
    "print(\"if a is subset of b\",a.issubset(b))\n",
    "x=int(input(\"Enter Score to search=\"))\n",
    "try:\n",
    "    a.remove(x)\n",
    "except:\n",
    "    print(\"Not found\")\n",
    "print(\"The list after removing\",x,\"is\",a)"
   ]
  },
  {
   "cell_type": "code",
   "execution_count": 9,
   "metadata": {},
   "outputs": [
    {
     "name": "stdout",
     "output_type": "stream",
     "text": [
      "{'name': 'kelly', 'age': 25, 'salary': 8000, 'location': 'New york'}\n"
     ]
    }
   ],
   "source": [
    "#Question-5\n",
    "sample_dict={\n",
    "    \"name\":\"kelly\",\n",
    "    \"age\":25,\n",
    "    \"salary\":8000,\n",
    "    \"city\":\"New york\"\n",
    "}\n",
    "sample_dict.update({\"location\":\"New york\"})\n",
    "sample_dict.pop(\"city\")\n",
    "print(sample_dict)"
   ]
  }
 ],
 "metadata": {
  "kernelspec": {
   "display_name": "Python 3",
   "language": "python",
   "name": "python3"
  },
  "language_info": {
   "codemirror_mode": {
    "name": "ipython",
    "version": 3
   },
   "file_extension": ".py",
   "mimetype": "text/x-python",
   "name": "python",
   "nbconvert_exporter": "python",
   "pygments_lexer": "ipython3",
   "version": "3.13.1"
  }
 },
 "nbformat": 4,
 "nbformat_minor": 2
}
