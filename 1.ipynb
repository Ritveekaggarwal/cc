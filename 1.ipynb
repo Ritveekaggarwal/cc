{
 "cells": [
  {
   "cell_type": "code",
   "execution_count": 1,
   "metadata": {},
   "outputs": [
    {
     "name": "stdout",
     "output_type": "stream",
     "text": [
      "Ritveek Aggarwal\n",
      "Ritveek Aggarwal\n",
      "Ritveek Aggarwal\n"
     ]
    }
   ],
   "source": [
    "#Assignment-1.1\n",
    "for i in range(3):\n",
    "    print(\"Ritveek Aggarwal\")"
   ]
  },
  {
   "cell_type": "code",
   "execution_count": 3,
   "metadata": {},
   "outputs": [
    {
     "name": "stdout",
     "output_type": "stream",
     "text": [
      "The Sum is  12\n",
      "The concatenated string is= abc\n"
     ]
    }
   ],
   "source": [
    "#Assignment-2.1\n",
    "a,b,c=3,4,5\n",
    "print(\"The Sum is \",a+b+c)\n",
    "#Assignment-2.2\n",
    "a,b,c=\"a\",\"b\",\"c\"\n",
    "print(\"The concatenated string is=\",a+b+c)"
   ]
  },
  {
   "cell_type": "code",
   "execution_count": 4,
   "metadata": {},
   "outputs": [
    {
     "name": "stdout",
     "output_type": "stream",
     "text": [
      "7 * 1 = 7\n",
      "7 * 2 = 14\n",
      "7 * 3 = 21\n",
      "7 * 4 = 28\n",
      "7 * 5 = 35\n",
      "7 * 6 = 42\n",
      "7 * 7 = 49\n",
      "7 * 8 = 56\n",
      "7 * 9 = 63\n",
      "7 * 10 = 70\n",
      "9 * 1 = 9\n",
      "9 * 2 = 18\n",
      "9 * 3 = 27\n",
      "9 * 4 = 36\n",
      "9 * 5 = 45\n",
      "9 * 6 = 54\n",
      "9 * 7 = 63\n",
      "9 * 8 = 72\n",
      "9 * 9 = 81\n",
      "9 * 10 = 90\n",
      "100 * 1 = 100\n",
      "100 * 2 = 200\n",
      "100 * 3 = 300\n",
      "100 * 4 = 400\n",
      "100 * 5 = 500\n",
      "100 * 6 = 600\n",
      "100 * 7 = 700\n",
      "100 * 8 = 800\n",
      "100 * 9 = 900\n",
      "100 * 10 = 1000\n",
      "The Sum upto n= 45\n"
     ]
    }
   ],
   "source": [
    "#Assignment-4.1\n",
    "for i in range(1,11,1):\n",
    "    print(7,\"*\",i,\"=\",7*i)\n",
    "for i in range(1,11,1):\n",
    "    print(9,\"*\",i,\"=\",9*i)\n",
    "#Assignment-4.2\n",
    "n=int(input(\"Enter a number=\"))\n",
    "for i in range(1,11,1):\n",
    "    print(n,\"*\",i,\"=\",n*i)\n",
    "#Assignment-4.3\n",
    "n=int(input(\"Enter a number=\"))\n",
    "sum=0\n",
    "for i in range(1,n,1):\n",
    "    sum+=i\n",
    "print(\"The Sum upto n=\",sum)"
   ]
  },
  {
   "cell_type": "code",
   "execution_count": 8,
   "metadata": {},
   "outputs": [
    {
     "name": "stdout",
     "output_type": "stream",
     "text": [
      "The maximum of 5 6 7 = 7\n",
      "The Sum of number divisible by 7 and 9 upto n= 0\n",
      "The Sum of prime number upto n= 3\n"
     ]
    }
   ],
   "source": [
    "#Assignment-5.1\n",
    "a,b,c=map(int,input(\"Enter three numbers\").split())\n",
    "print(\"The maximum of\",a,b,c,\"=\",max(a,b,c))\n",
    "#Assignment-5.2\n",
    "n=int(input(\"Enter a number=\"))\n",
    "sum=0\n",
    "for i in range(1,n,1):\n",
    "    if(i%7==0 and i%9==0):\n",
    "        sum+=i\n",
    "print(\"The Sum of number divisible by 7 and 9 upto n=\",sum)\n",
    "#Assignment-5.3\n",
    "n=int(input(\"Enter a number=\"))\n",
    "sum=0\n",
    "for i in range(1,n,1):\n",
    "    isprime=True\n",
    "    for j in range(1,i+1):\n",
    "        if(i%j!=0):\n",
    "            isprime=False\n",
    "    if(isprime):\n",
    "        sum+=i\n",
    "print(\"The Sum of prime number upto n=\",sum)"
   ]
  },
  {
   "cell_type": "code",
   "execution_count": 11,
   "metadata": {},
   "outputs": [],
   "source": [
    "#Assignment-6.1\n",
    "def add_odd_number(n):\n",
    "    sum=0\n",
    "    for i in range(n):\n",
    "        if(i%2!=0):\n",
    "            sum+=i\n",
    "    return sum\n",
    "#Assignment-6.2\n",
    "def add_prime_number(n):\n",
    "    sum=0\n",
    "    for i in range(1,n,1):\n",
    "        isprime=True\n",
    "        for j in range(1,i+1):\n",
    "            if(i%j!=0):\n",
    "                isprime=False\n",
    "        if(isprime):\n",
    "            sum+=i\n",
    "    return sum"
   ]
  }
 ],
 "metadata": {
  "kernelspec": {
   "display_name": "Python 3",
   "language": "python",
   "name": "python3"
  },
  "language_info": {
   "codemirror_mode": {
    "name": "ipython",
    "version": 3
   },
   "file_extension": ".py",
   "mimetype": "text/x-python",
   "name": "python",
   "nbconvert_exporter": "python",
   "pygments_lexer": "ipython3",
   "version": "3.13.1"
  }
 },
 "nbformat": 4,
 "nbformat_minor": 2
}
