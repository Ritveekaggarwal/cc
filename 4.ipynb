{
 "cells": [
  {
   "cell_type": "code",
   "execution_count": 1,
   "metadata": {},
   "outputs": [
    {
     "name": "stdout",
     "output_type": "stream",
     "text": [
      "[3 4 5 6 7]\n",
      "[ 9 12 15 18 21]\n",
      "[ 4.5  6.   7.5  9.  10.5]\n"
     ]
    }
   ],
   "source": [
    "#Question 1\n",
    "import numpy as np \n",
    "ls=[1,2,3,4,5]\n",
    "arr=np.array(ls)\n",
    "#Part 1\n",
    "arr+=2\n",
    "print(arr)\n",
    "#Part 2\n",
    "arr*=3\n",
    "print(arr)\n",
    "#Part 3\n",
    "arr=arr/2\n",
    "print(arr)"
   ]
  },
  {
   "cell_type": "code",
   "execution_count": 2,
   "metadata": {},
   "outputs": [
    {
     "name": "stdout",
     "output_type": "stream",
     "text": [
      "[1 2 3 6 5 4]\n",
      "[4 5 6 3 2 1]\n",
      "[1 2 3 4 5 1 2 1 1 1]\n",
      "1\n",
      "[1 1 1 2 3 4 2 4 3 3 3]\n",
      "3\n"
     ]
    }
   ],
   "source": [
    "#Question 2\n",
    "ls=[1,2,3,6,5,4]\n",
    "arr=np.array(ls)\n",
    "#Part 1\n",
    "print(arr)\n",
    "print(arr[::-1])\n",
    "#Part 2\n",
    "x = np.array([1,2,3,4,5,1,2,1,1,1])\n",
    "most_frequent_value = np.bincount(x).argmax()\n",
    "indices = np.where(x == most_frequent_value)[0]\n",
    "print(x)\n",
    "print(most_frequent_value)\n",
    "#Part 3\n",
    "y = np.array([1, 1, 1, 2, 3, 4, 2, 4, 3, 3, 3])\n",
    "print(y)\n",
    "most_frequent_value = np.bincount(y).argmax()\n",
    "indices = np.where(y== most_frequent_value)[0]\n",
    "print(most_frequent_value)"
   ]
  },
  {
   "cell_type": "code",
   "execution_count": 3,
   "metadata": {},
   "outputs": [
    {
     "name": "stdout",
     "output_type": "stream",
     "text": [
      "[[10 20 30]\n",
      " [40 50 60]\n",
      " [70 80 90]]\n",
      "20\n",
      "70\n"
     ]
    }
   ],
   "source": [
    "#Question 3\n",
    "arr=np.array([[10, 20, 30], [40, 50, 60], [70, 80, 90]])\n",
    "print(arr)\n",
    "print(arr[0][1])\n",
    "print(arr[2][0])"
   ]
  },
  {
   "cell_type": "code",
   "execution_count": 4,
   "metadata": {},
   "outputs": [
    {
     "name": "stdout",
     "output_type": "stream",
     "text": [
      "\n",
      "Q4 Results:\n",
      "Dimensions: 1\n",
      "Shape: (25,)\n",
      "Total Elements: 25\n",
      "Data Type: float64\n",
      "Bytes Consumed: 200\n",
      "Reshaped Transposed Array:\n",
      " [[ 10.    28.75  47.5   66.25  85.  ]\n",
      " [ 13.75  32.5   51.25  70.    88.75]\n",
      " [ 17.5   36.25  55.    73.75  92.5 ]\n",
      " [ 21.25  40.    58.75  77.5   96.25]\n",
      " [ 25.    43.75  62.5   81.25 100.  ]]\n",
      "Transpose using .T:\n",
      " [[ 10.    28.75  47.5   66.25  85.  ]\n",
      " [ 13.75  32.5   51.25  70.    88.75]\n",
      " [ 17.5   36.25  55.    73.75  92.5 ]\n",
      " [ 21.25  40.    58.75  77.5   96.25]\n",
      " [ 25.    43.75  62.5   81.25 100.  ]]\n"
     ]
    }
   ],
   "source": [
    "#Question 4\n",
    "name_array = np.linspace(10, 100, 25)\n",
    "\n",
    "# Print properties of the array\n",
    "print(\"\\nQ4 Results:\")\n",
    "print(\"Dimensions:\", name_array.ndim)\n",
    "print(\"Shape:\", name_array.shape)\n",
    "print(\"Total Elements:\", name_array.size)\n",
    "print(\"Data Type:\", name_array.dtype)\n",
    "print(\"Bytes Consumed:\", name_array.nbytes)\n",
    "\n",
    "# Transpose using reshape\n",
    "reshaped_array = name_array.reshape(5, 5).T\n",
    "print(\"Reshaped Transposed Array:\\n\", reshaped_array)\n",
    "\n",
    "# Checking if T attribute works (Yes, it does)\n",
    "print(\"Transpose using .T:\\n\", name_array.reshape(5, 5).T)"
   ]
  },
  {
   "cell_type": "code",
   "execution_count": 5,
   "metadata": {},
   "outputs": [
    {
     "name": "stdout",
     "output_type": "stream",
     "text": [
      "\n",
      "Q5 Results:\n",
      "Mean: 43.333333333333336\n",
      "Median: 37.5\n",
      "Max: 90\n",
      "Min: 10\n",
      "Unique Elements: [10 15 20 30 35 40 50 60 70 80 90]\n",
      "Reshaped Array (4x3):\n",
      " [[10 20 30]\n",
      " [40 50 60]\n",
      " [70 80 90]\n",
      " [15 20 35]]\n",
      "Resized Array (2x3):\n",
      " [[10 20 30]\n",
      " [50 60 70]]\n"
     ]
    }
   ],
   "source": [
    "#Question 5\n",
    "ucs420_name = np.array([[10, 20, 30, 40], \n",
    "                        [50, 60, 70, 80], \n",
    "                        [90, 15, 20, 35]])\n",
    "\n",
    "# Compute statistics\n",
    "mean_value = np.mean(ucs420_name)\n",
    "median_value = np.median(ucs420_name)\n",
    "max_value = np.max(ucs420_name)\n",
    "min_value = np.min(ucs420_name)\n",
    "unique_values = np.unique(ucs420_name)\n",
    "\n",
    "print(\"\\nQ5 Results:\")\n",
    "print(\"Mean:\", mean_value)\n",
    "print(\"Median:\", median_value)\n",
    "print(\"Max:\", max_value)\n",
    "print(\"Min:\", min_value)\n",
    "print(\"Unique Elements:\", unique_values)\n",
    "\n",
    "# Reshape and Resize\n",
    "reshaped_ucs420 = ucs420_name.reshape(4, 3)\n",
    "resized_ucs420 = ucs420_name[:2, :3]  # Resize to 2x3\n",
    "\n",
    "print(\"Reshaped Array (4x3):\\n\", reshaped_ucs420)\n",
    "print(\"Resized Array (2x3):\\n\", resized_ucs420)"
   ]
  }
 ],
 "metadata": {
  "kernelspec": {
   "display_name": "Python 3",
   "language": "python",
   "name": "python3"
  },
  "language_info": {
   "codemirror_mode": {
    "name": "ipython",
    "version": 3
   },
   "file_extension": ".py",
   "mimetype": "text/x-python",
   "name": "python",
   "nbconvert_exporter": "python",
   "pygments_lexer": "ipython3",
   "version": "3.13.1"
  }
 },
 "nbformat": 4,
 "nbformat_minor": 2
}
